{
 "cells": [
  {
   "cell_type": "markdown",
   "id": "a6b221ff",
   "metadata": {},
   "source": [
    "# NLP With Hotel Review Part 2\n"
   ]
  },
  {
   "cell_type": "markdown",
   "id": "7e0cff42",
   "metadata": {},
   "source": [
    "### By: Roman Kovalchuk"
   ]
  },
  {
   "cell_type": "markdown",
   "id": "bc70df0f",
   "metadata": {},
   "source": [
    "## Table of Contents:\n",
    "* [Introduction](#Introduction)\n",
    "* [Importing Data](#Importing)\n",
    "* [Fitting Logistic Regression](#fitting)\n",
    "* [Top 20 words most indicative of positive and negative review](#words)\n",
    "* [Dimensionality Reduction with PCA](#pca)\n",
    "* [Advantage and Disadvantage of reducing dimensions with PCA](#advantage)\n",
    "* [K-Nearest Neighbour Classifier](#knearest)\n",
    "* [Visualizing run time and number of observations](#visualizing)\n",
    "* [Issue with splitting data into validation sets after vectorization](#issue)\n",
    "* [Decision Tree Classifier](#tree)\n",
    "* [Advantages and weaknesses of Decision Trees over KNN](#weakness)\n",
    "* [Purpose of Validation Set](#purpose)\n",
    "* [5-fold Cross Validation](#5fold)\n",
    "* [Creating Confusion Matrix](#confusion)\n",
    "* [Engineering a new feature](#engineering)\n",
    "* [Conclusion](#conclusion)"
   ]
  },
  {
   "cell_type": "markdown",
   "id": "f2375019",
   "metadata": {},
   "source": [
    "## Introduction<a class=\"anchor\" id=\"Introduction\"></a>"
   ]
  },
  {
   "cell_type": "markdown",
   "id": "1099544b",
   "metadata": {},
   "source": [
    "In this project, we will develop several machine learning models to help us correctly label the sentiment behind hotel reviews. The target column is the `rating`, which is denoted as 1 for good ratings and 0 for bad ones.\n",
    "\n",
    "First, let's import the libraries that we will be using:"
   ]
  },
  {
   "cell_type": "code",
   "execution_count": 1,
   "id": "e73cf665",
   "metadata": {},
   "outputs": [],
   "source": [
    "import numpy as np\n",
    "import pandas as pd\n",
    "import matplotlib.pyplot as plt\n",
    "\n",
    "import seaborn as sns"
   ]
  },
  {
   "cell_type": "markdown",
   "id": "34f90a06",
   "metadata": {},
   "source": [
    "## Importing Data<a class=\"anchor\" id=\"Importing\"></a>"
   ]
  },
  {
   "cell_type": "markdown",
   "id": "42e9e354",
   "metadata": {},
   "source": [
    "Now let's import our data which has been split up into Train and Test sets:"
   ]
  },
  {
   "cell_type": "code",
   "execution_count": 2,
   "id": "7c6c6c63",
   "metadata": {},
   "outputs": [],
   "source": [
    "hotels_train = pd.read_csv(\"data/clean_data/clean_train_dataframe.csv\")\n",
    "hotels_test = pd.read_csv(\"data/clean_data/clean_test_dataframe.csv\")"
   ]
  },
  {
   "cell_type": "code",
   "execution_count": 3,
   "id": "bf51a673",
   "metadata": {},
   "outputs": [
    {
     "data": {
      "text/html": [
       "<div>\n",
       "<style scoped>\n",
       "    .dataframe tbody tr th:only-of-type {\n",
       "        vertical-align: middle;\n",
       "    }\n",
       "\n",
       "    .dataframe tbody tr th {\n",
       "        vertical-align: top;\n",
       "    }\n",
       "\n",
       "    .dataframe thead th {\n",
       "        text-align: right;\n",
       "    }\n",
       "</style>\n",
       "<table border=\"1\" class=\"dataframe\">\n",
       "  <thead>\n",
       "    <tr style=\"text-align: right;\">\n",
       "      <th></th>\n",
       "      <th>Additional_Number_of_Scoring</th>\n",
       "      <th>Average_Score</th>\n",
       "      <th>Review_Total_Negative_Word_Counts</th>\n",
       "      <th>Total_Number_of_Reviews</th>\n",
       "      <th>Review_Total_Positive_Word_Counts</th>\n",
       "      <th>Total_Number_of_Reviews_Reviewer_Has_Given</th>\n",
       "      <th>days_since_review</th>\n",
       "      <th>lat</th>\n",
       "      <th>lng</th>\n",
       "      <th>weekday_of_review</th>\n",
       "      <th>...</th>\n",
       "      <th>n_worry</th>\n",
       "      <th>n_worth</th>\n",
       "      <th>n_would</th>\n",
       "      <th>n_write</th>\n",
       "      <th>n_wrong</th>\n",
       "      <th>n_year</th>\n",
       "      <th>n_yes</th>\n",
       "      <th>n_yet</th>\n",
       "      <th>n_young</th>\n",
       "      <th>rating</th>\n",
       "    </tr>\n",
       "  </thead>\n",
       "  <tbody>\n",
       "    <tr>\n",
       "      <th>0</th>\n",
       "      <td>620</td>\n",
       "      <td>9.0</td>\n",
       "      <td>0</td>\n",
       "      <td>1974</td>\n",
       "      <td>164</td>\n",
       "      <td>1</td>\n",
       "      <td>562</td>\n",
       "      <td>51.506558</td>\n",
       "      <td>-0.004514</td>\n",
       "      <td>1</td>\n",
       "      <td>...</td>\n",
       "      <td>0</td>\n",
       "      <td>0</td>\n",
       "      <td>0</td>\n",
       "      <td>0</td>\n",
       "      <td>0</td>\n",
       "      <td>0</td>\n",
       "      <td>0</td>\n",
       "      <td>0</td>\n",
       "      <td>0</td>\n",
       "      <td>1</td>\n",
       "    </tr>\n",
       "    <tr>\n",
       "      <th>1</th>\n",
       "      <td>1258</td>\n",
       "      <td>9.4</td>\n",
       "      <td>6</td>\n",
       "      <td>4204</td>\n",
       "      <td>4</td>\n",
       "      <td>5</td>\n",
       "      <td>276</td>\n",
       "      <td>51.502435</td>\n",
       "      <td>-0.000250</td>\n",
       "      <td>0</td>\n",
       "      <td>...</td>\n",
       "      <td>0</td>\n",
       "      <td>0</td>\n",
       "      <td>0</td>\n",
       "      <td>0</td>\n",
       "      <td>0</td>\n",
       "      <td>0</td>\n",
       "      <td>0</td>\n",
       "      <td>0</td>\n",
       "      <td>0</td>\n",
       "      <td>1</td>\n",
       "    </tr>\n",
       "    <tr>\n",
       "      <th>2</th>\n",
       "      <td>995</td>\n",
       "      <td>8.1</td>\n",
       "      <td>2</td>\n",
       "      <td>3826</td>\n",
       "      <td>38</td>\n",
       "      <td>1</td>\n",
       "      <td>129</td>\n",
       "      <td>51.504348</td>\n",
       "      <td>-0.033444</td>\n",
       "      <td>0</td>\n",
       "      <td>...</td>\n",
       "      <td>0</td>\n",
       "      <td>0</td>\n",
       "      <td>0</td>\n",
       "      <td>0</td>\n",
       "      <td>0</td>\n",
       "      <td>0</td>\n",
       "      <td>0</td>\n",
       "      <td>0</td>\n",
       "      <td>0</td>\n",
       "      <td>1</td>\n",
       "    </tr>\n",
       "    <tr>\n",
       "      <th>3</th>\n",
       "      <td>853</td>\n",
       "      <td>8.4</td>\n",
       "      <td>7</td>\n",
       "      <td>2726</td>\n",
       "      <td>10</td>\n",
       "      <td>10</td>\n",
       "      <td>164</td>\n",
       "      <td>51.507377</td>\n",
       "      <td>0.038657</td>\n",
       "      <td>0</td>\n",
       "      <td>...</td>\n",
       "      <td>0</td>\n",
       "      <td>0</td>\n",
       "      <td>0</td>\n",
       "      <td>0</td>\n",
       "      <td>0</td>\n",
       "      <td>0</td>\n",
       "      <td>0</td>\n",
       "      <td>0</td>\n",
       "      <td>0</td>\n",
       "      <td>0</td>\n",
       "    </tr>\n",
       "    <tr>\n",
       "      <th>4</th>\n",
       "      <td>1243</td>\n",
       "      <td>8.1</td>\n",
       "      <td>11</td>\n",
       "      <td>6608</td>\n",
       "      <td>8</td>\n",
       "      <td>69</td>\n",
       "      <td>639</td>\n",
       "      <td>51.513556</td>\n",
       "      <td>-0.180002</td>\n",
       "      <td>1</td>\n",
       "      <td>...</td>\n",
       "      <td>0</td>\n",
       "      <td>0</td>\n",
       "      <td>0</td>\n",
       "      <td>0</td>\n",
       "      <td>0</td>\n",
       "      <td>0</td>\n",
       "      <td>0</td>\n",
       "      <td>0</td>\n",
       "      <td>0</td>\n",
       "      <td>0</td>\n",
       "    </tr>\n",
       "  </tbody>\n",
       "</table>\n",
       "<p>5 rows × 2744 columns</p>\n",
       "</div>"
      ],
      "text/plain": [
       "   Additional_Number_of_Scoring  Average_Score  \\\n",
       "0                           620            9.0   \n",
       "1                          1258            9.4   \n",
       "2                           995            8.1   \n",
       "3                           853            8.4   \n",
       "4                          1243            8.1   \n",
       "\n",
       "   Review_Total_Negative_Word_Counts  Total_Number_of_Reviews  \\\n",
       "0                                  0                     1974   \n",
       "1                                  6                     4204   \n",
       "2                                  2                     3826   \n",
       "3                                  7                     2726   \n",
       "4                                 11                     6608   \n",
       "\n",
       "   Review_Total_Positive_Word_Counts  \\\n",
       "0                                164   \n",
       "1                                  4   \n",
       "2                                 38   \n",
       "3                                 10   \n",
       "4                                  8   \n",
       "\n",
       "   Total_Number_of_Reviews_Reviewer_Has_Given  days_since_review        lat  \\\n",
       "0                                           1                562  51.506558   \n",
       "1                                           5                276  51.502435   \n",
       "2                                           1                129  51.504348   \n",
       "3                                          10                164  51.507377   \n",
       "4                                          69                639  51.513556   \n",
       "\n",
       "        lng  weekday_of_review  ...  n_worry  n_worth  n_would  n_write  \\\n",
       "0 -0.004514                  1  ...        0        0        0        0   \n",
       "1 -0.000250                  0  ...        0        0        0        0   \n",
       "2 -0.033444                  0  ...        0        0        0        0   \n",
       "3  0.038657                  0  ...        0        0        0        0   \n",
       "4 -0.180002                  1  ...        0        0        0        0   \n",
       "\n",
       "   n_wrong  n_year  n_yes  n_yet  n_young  rating  \n",
       "0        0       0      0      0        0       1  \n",
       "1        0       0      0      0        0       1  \n",
       "2        0       0      0      0        0       1  \n",
       "3        0       0      0      0        0       0  \n",
       "4        0       0      0      0        0       0  \n",
       "\n",
       "[5 rows x 2744 columns]"
      ]
     },
     "execution_count": 3,
     "metadata": {},
     "output_type": "execute_result"
    }
   ],
   "source": [
    "hotels_train.head()"
   ]
  },
  {
   "cell_type": "code",
   "execution_count": 4,
   "id": "58a9cde0",
   "metadata": {},
   "outputs": [
    {
     "data": {
      "text/html": [
       "<div>\n",
       "<style scoped>\n",
       "    .dataframe tbody tr th:only-of-type {\n",
       "        vertical-align: middle;\n",
       "    }\n",
       "\n",
       "    .dataframe tbody tr th {\n",
       "        vertical-align: top;\n",
       "    }\n",
       "\n",
       "    .dataframe thead th {\n",
       "        text-align: right;\n",
       "    }\n",
       "</style>\n",
       "<table border=\"1\" class=\"dataframe\">\n",
       "  <thead>\n",
       "    <tr style=\"text-align: right;\">\n",
       "      <th></th>\n",
       "      <th>Additional_Number_of_Scoring</th>\n",
       "      <th>Average_Score</th>\n",
       "      <th>Review_Total_Negative_Word_Counts</th>\n",
       "      <th>Total_Number_of_Reviews</th>\n",
       "      <th>Review_Total_Positive_Word_Counts</th>\n",
       "      <th>Total_Number_of_Reviews_Reviewer_Has_Given</th>\n",
       "      <th>days_since_review</th>\n",
       "      <th>lat</th>\n",
       "      <th>lng</th>\n",
       "      <th>weekday_of_review</th>\n",
       "      <th>...</th>\n",
       "      <th>n_worry</th>\n",
       "      <th>n_worth</th>\n",
       "      <th>n_would</th>\n",
       "      <th>n_write</th>\n",
       "      <th>n_wrong</th>\n",
       "      <th>n_year</th>\n",
       "      <th>n_yes</th>\n",
       "      <th>n_yet</th>\n",
       "      <th>n_young</th>\n",
       "      <th>rating</th>\n",
       "    </tr>\n",
       "  </thead>\n",
       "  <tbody>\n",
       "    <tr>\n",
       "      <th>0</th>\n",
       "      <td>1005</td>\n",
       "      <td>8.3</td>\n",
       "      <td>0</td>\n",
       "      <td>3469</td>\n",
       "      <td>6</td>\n",
       "      <td>2</td>\n",
       "      <td>297</td>\n",
       "      <td>51.559096</td>\n",
       "      <td>-0.284704</td>\n",
       "      <td>0</td>\n",
       "      <td>...</td>\n",
       "      <td>0</td>\n",
       "      <td>0</td>\n",
       "      <td>0</td>\n",
       "      <td>0</td>\n",
       "      <td>0</td>\n",
       "      <td>0</td>\n",
       "      <td>0</td>\n",
       "      <td>0</td>\n",
       "      <td>0</td>\n",
       "      <td>0</td>\n",
       "    </tr>\n",
       "    <tr>\n",
       "      <th>1</th>\n",
       "      <td>487</td>\n",
       "      <td>8.8</td>\n",
       "      <td>46</td>\n",
       "      <td>1805</td>\n",
       "      <td>121</td>\n",
       "      <td>1</td>\n",
       "      <td>4</td>\n",
       "      <td>51.474469</td>\n",
       "      <td>-0.019428</td>\n",
       "      <td>6</td>\n",
       "      <td>...</td>\n",
       "      <td>0</td>\n",
       "      <td>0</td>\n",
       "      <td>0</td>\n",
       "      <td>0</td>\n",
       "      <td>0</td>\n",
       "      <td>0</td>\n",
       "      <td>0</td>\n",
       "      <td>0</td>\n",
       "      <td>0</td>\n",
       "      <td>1</td>\n",
       "    </tr>\n",
       "    <tr>\n",
       "      <th>2</th>\n",
       "      <td>570</td>\n",
       "      <td>9.3</td>\n",
       "      <td>0</td>\n",
       "      <td>2319</td>\n",
       "      <td>9</td>\n",
       "      <td>1</td>\n",
       "      <td>590</td>\n",
       "      <td>51.505696</td>\n",
       "      <td>-0.101525</td>\n",
       "      <td>1</td>\n",
       "      <td>...</td>\n",
       "      <td>0</td>\n",
       "      <td>0</td>\n",
       "      <td>0</td>\n",
       "      <td>0</td>\n",
       "      <td>0</td>\n",
       "      <td>0</td>\n",
       "      <td>0</td>\n",
       "      <td>0</td>\n",
       "      <td>0</td>\n",
       "      <td>1</td>\n",
       "    </tr>\n",
       "    <tr>\n",
       "      <th>3</th>\n",
       "      <td>2623</td>\n",
       "      <td>8.7</td>\n",
       "      <td>19</td>\n",
       "      <td>12158</td>\n",
       "      <td>0</td>\n",
       "      <td>2</td>\n",
       "      <td>269</td>\n",
       "      <td>51.500961</td>\n",
       "      <td>-0.116591</td>\n",
       "      <td>0</td>\n",
       "      <td>...</td>\n",
       "      <td>0</td>\n",
       "      <td>0</td>\n",
       "      <td>0</td>\n",
       "      <td>0</td>\n",
       "      <td>0</td>\n",
       "      <td>0</td>\n",
       "      <td>0</td>\n",
       "      <td>0</td>\n",
       "      <td>0</td>\n",
       "      <td>0</td>\n",
       "    </tr>\n",
       "    <tr>\n",
       "      <th>4</th>\n",
       "      <td>365</td>\n",
       "      <td>8.1</td>\n",
       "      <td>13</td>\n",
       "      <td>1567</td>\n",
       "      <td>0</td>\n",
       "      <td>2</td>\n",
       "      <td>373</td>\n",
       "      <td>51.515125</td>\n",
       "      <td>-0.160066</td>\n",
       "      <td>1</td>\n",
       "      <td>...</td>\n",
       "      <td>0</td>\n",
       "      <td>0</td>\n",
       "      <td>0</td>\n",
       "      <td>0</td>\n",
       "      <td>0</td>\n",
       "      <td>0</td>\n",
       "      <td>0</td>\n",
       "      <td>0</td>\n",
       "      <td>0</td>\n",
       "      <td>0</td>\n",
       "    </tr>\n",
       "  </tbody>\n",
       "</table>\n",
       "<p>5 rows × 2744 columns</p>\n",
       "</div>"
      ],
      "text/plain": [
       "   Additional_Number_of_Scoring  Average_Score  \\\n",
       "0                          1005            8.3   \n",
       "1                           487            8.8   \n",
       "2                           570            9.3   \n",
       "3                          2623            8.7   \n",
       "4                           365            8.1   \n",
       "\n",
       "   Review_Total_Negative_Word_Counts  Total_Number_of_Reviews  \\\n",
       "0                                  0                     3469   \n",
       "1                                 46                     1805   \n",
       "2                                  0                     2319   \n",
       "3                                 19                    12158   \n",
       "4                                 13                     1567   \n",
       "\n",
       "   Review_Total_Positive_Word_Counts  \\\n",
       "0                                  6   \n",
       "1                                121   \n",
       "2                                  9   \n",
       "3                                  0   \n",
       "4                                  0   \n",
       "\n",
       "   Total_Number_of_Reviews_Reviewer_Has_Given  days_since_review        lat  \\\n",
       "0                                           2                297  51.559096   \n",
       "1                                           1                  4  51.474469   \n",
       "2                                           1                590  51.505696   \n",
       "3                                           2                269  51.500961   \n",
       "4                                           2                373  51.515125   \n",
       "\n",
       "        lng  weekday_of_review  ...  n_worry  n_worth  n_would  n_write  \\\n",
       "0 -0.284704                  0  ...        0        0        0        0   \n",
       "1 -0.019428                  6  ...        0        0        0        0   \n",
       "2 -0.101525                  1  ...        0        0        0        0   \n",
       "3 -0.116591                  0  ...        0        0        0        0   \n",
       "4 -0.160066                  1  ...        0        0        0        0   \n",
       "\n",
       "   n_wrong  n_year  n_yes  n_yet  n_young  rating  \n",
       "0        0       0      0      0        0       0  \n",
       "1        0       0      0      0        0       1  \n",
       "2        0       0      0      0        0       1  \n",
       "3        0       0      0      0        0       0  \n",
       "4        0       0      0      0        0       0  \n",
       "\n",
       "[5 rows x 2744 columns]"
      ]
     },
     "execution_count": 4,
     "metadata": {},
     "output_type": "execute_result"
    }
   ],
   "source": [
    "hotels_test.head()"
   ]
  },
  {
   "cell_type": "code",
   "execution_count": 5,
   "id": "7e42deae",
   "metadata": {
    "scrolled": true
   },
   "outputs": [
    {
     "name": "stdout",
     "output_type": "stream",
     "text": [
      "The shape of the training data is 12798 rows and 2744 columns\n",
      "The shape of the test data is 4267 rows and 2744 columns\n"
     ]
    }
   ],
   "source": [
    "#checking the shape of both sets\n",
    "\n",
    "print(f\"The shape of the training data is {hotels_train.shape[0]} rows and {hotels_train.shape[1]} columns\")\n",
    "\n",
    "print(f\"The shape of the test data is {hotels_test.shape[0]} rows and {hotels_test.shape[1]} columns\")"
   ]
  },
  {
   "cell_type": "markdown",
   "id": "4bfdd154",
   "metadata": {},
   "source": [
    "## Splitting data into Train and Test sets<a class=\"anchor\" id=\"splitting\"></a>"
   ]
  },
  {
   "cell_type": "markdown",
   "id": "e300e324",
   "metadata": {},
   "source": [
    "Let's separate our dependent and independent variables to our train and test sets. The dependent variable is `rating`, which will be assigned to y and dropped from the X axes."
   ]
  },
  {
   "cell_type": "code",
   "execution_count": 7,
   "id": "132cf014",
   "metadata": {},
   "outputs": [
    {
     "name": "stdout",
     "output_type": "stream",
     "text": [
      "The shape of the independent variables in the training set:  (12798, 2743)\n",
      "The shape of the dependent variable in the training set:  (12798,)\n",
      "The shape of the independent variables in the test set:  (4267, 2743)\n",
      "The shape of the dependent variable in the test set:  (4267,)\n"
     ]
    }
   ],
   "source": [
    "# splitting dataset into train and test variables. rating is is the dependent variable.\n",
    "X_train = hotels_train.drop(columns=['rating'])\n",
    "y_train = hotels_train['rating']\n",
    "X_test = hotels_test.drop(columns=['rating'])\n",
    "y_test = hotels_test['rating']\n",
    "\n",
    "# displaying shape of our 4 split sets\n",
    "print('The shape of the independent variables in the training set: ', X_train.shape)\n",
    "print('The shape of the dependent variable in the training set: ', y_train.shape)\n",
    "print('The shape of the independent variables in the test set: ', X_test.shape)\n",
    "print('The shape of the dependent variable in the test set: ', y_test.shape)"
   ]
  },
  {
   "cell_type": "markdown",
   "id": "125e0570",
   "metadata": {},
   "source": [
    "## Fitting Logistic Regression<a class=\"anchor\" id=\"fitting\"></a>"
   ]
  },
  {
   "attachments": {},
   "cell_type": "markdown",
   "id": "1bf0dee2",
   "metadata": {},
   "source": [
    "Let's apply our first classifier on this dataset, which will be Logistic Regression but before that, let's scale the data to standardize the distribution and make sure all our values lie in the same range. We will set LogisticRegression's solver to `lbfgs`, which stores only a few vectors and saves memory."
   ]
  },
  {
   "cell_type": "code",
   "execution_count": 8,
   "id": "46f5b00b",
   "metadata": {
    "scrolled": false
   },
   "outputs": [],
   "source": [
    "# import scaler and logistic regression\n",
    "from sklearn.preprocessing import StandardScaler\n",
    "from sklearn.linear_model import LogisticRegression\n",
    " \n",
    "# instante the scaler\n",
    "scaler = StandardScaler()\n",
    "\n",
    "# fitting scaler\n",
    "scaler.fit(X_train)\n",
    " \n",
    "# scaling the train and test set\n",
    "X_train_scaled = scaler.transform(X_train)\n",
    "X_test_scaled = scaler.transform(X_test)"
   ]
  },
  {
   "cell_type": "code",
   "execution_count": 9,
   "id": "0fb70f13",
   "metadata": {},
   "outputs": [
    {
     "name": "stdout",
     "output_type": "stream",
     "text": [
      "Accuracy of the scaled train set:  0.885841537740272\n",
      "Accuracy of the scaled test set:  0.7328333723927818\n"
     ]
    }
   ],
   "source": [
    "# instantiating logistic regression model with solver as \"lbfgs\"\n",
    "logreg = LogisticRegression(solver='lbfgs', max_iter=1000)\n",
    " \n",
    "# fitting the model\n",
    "logreg.fit(X_train_scaled, y_train)\n",
    "\n",
    "# scoring train and test sets\n",
    "print('Accuracy of the scaled train set: ', logreg.score(X_train_scaled, y_train))\n",
    "print('Accuracy of the scaled test set: ', logreg.score(X_test_scaled, y_test))"
   ]
  },
  {
   "cell_type": "markdown",
   "id": "c9d52d18",
   "metadata": {},
   "source": [
    "We've achieved an accuracy of 89% on the train set and 73% on the test set which may suggest overfitting. "
   ]
  },
  {
   "cell_type": "markdown",
   "id": "5f5fbd4c",
   "metadata": {},
   "source": [
    "## Top 20 words most indicative of Positive and Negative review<a class=\"anchor\" id=\"words\"></a>"
   ]
  },
  {
   "cell_type": "markdown",
   "id": "b247d524",
   "metadata": {},
   "source": [
    "Now let's check the top 20 words most indicative of positive and negative reviews. We will create a new DataFrame with our X_train columns and Logistic Regression coefficients, separate the words by positive and negative and then plot them into bar charts. Let's see what words we get:"
   ]
  },
  {
   "cell_type": "code",
   "execution_count": 10,
   "id": "2b5c917a",
   "metadata": {
    "scrolled": true
   },
   "outputs": [],
   "source": [
    "#creating df\n",
    "word_counts = pd.DataFrame({'words': X_train.columns, 'coefficients': logreg.coef_[0]}).sort_values(\"coefficients\", ascending=False)\n",
    "\n",
    "# sorting the values in descending order\n",
    "#word_counts.sort_values(by='importance', ascending=False, inplace=True)\n",
    "\n",
    "positive = word_counts[word_counts['words'].str.startswith('p')]\n",
    "negative = word_counts[word_counts['words'].str.startswith('n')]\n",
    "\n",
    "# getting the top 20 positive features\n",
    "top20_positive = positive.head(20)\n",
    "\n",
    "# getting the top 20 negative features\n",
    "top20_negative = negative.tail(20)"
   ]
  },
  {
   "cell_type": "code",
   "execution_count": 11,
   "id": "82e58be1",
   "metadata": {
    "scrolled": true
   },
   "outputs": [
    {
     "data": {
      "image/png": "[encoded data removed]",
      "text/plain": [
       "<Figure size 640x480 with 1 Axes>"
      ]
     },
     "metadata": {},
     "output_type": "display_data"
    }
   ],
   "source": [
    "# plotting top 20 positive words \n",
    "plt.figure\n",
    "sns.barplot(x='coefficients', y='words', data=top20_positive, color=\"cornflowerblue\")\n",
    "plt.title('Top 20 Positive Words')\n",
    "plt.show()"
   ]
  },
  {
   "attachments": {},
   "cell_type": "markdown",
   "id": "100a1c52",
   "metadata": {},
   "source": [
    "Some of the top positive words like \"gift\", \"excellent\" and \"incredible\" represent above and beyond customer service experiences which led reviewers to express their gratitude for the fine experience. Let's take a look at the negative words:"
   ]
  },
  {
   "cell_type": "code",
   "execution_count": 12,
   "id": "84ec37c4",
   "metadata": {
    "scrolled": true
   },
   "outputs": [
    {
     "data": {
      "image/png": "[encoded data removed]",
      "text/plain": [
       "<Figure size 640x480 with 1 Axes>"
      ]
     },
     "metadata": {},
     "output_type": "display_data"
    }
   ],
   "source": [
    "# plotting top 20 negative words\n",
    "plt.figure\n",
    "sns.barplot(x='coefficients', y='words', data=top20_negative, color='cornflowerblue')\n",
    "plt.title('Top 20 Negative Words')\n",
    "plt.show()"
   ]
  },
  {
   "cell_type": "markdown",
   "id": "44c6f1cf",
   "metadata": {},
   "source": [
    "Looking at the negative words, it's strange to see \"premier\" and \"star\" on the list though words like \"confirmation\", \"staff\", and \"room\" are more clear, potentially signifying lost confirmations, rude staff, and room's which were not up to standard."
   ]
  },
  {
   "cell_type": "markdown",
   "id": "8a28801e",
   "metadata": {},
   "source": [
    "## Dimensionality Reduction with PCA<a class=\"anchor\" id=\"pca\"></a>"
   ]
  },
  {
   "cell_type": "markdown",
   "id": "a31b23ea",
   "metadata": {},
   "source": [
    "Now we will reduce the dimensionality of our data with the PCA transformer object. PCA will capture the important components of our data and reduce the columns in our dataset. We will set `n_components` to 0.9, which will retain 90% of the data and discard 10% of variance. This will ensure that we don't discard too much data that may impact our model's accuracy. Let's go ahead and use PCA below:"
   ]
  },
  {
   "cell_type": "code",
   "execution_count": 13,
   "id": "c621a246",
   "metadata": {},
   "outputs": [],
   "source": [
    "# importing PCA\n",
    "from sklearn.decomposition import PCA\n",
    "\n",
    "# Create PCA object with 90% of components\n",
    "my_PCA = PCA(n_components = 0.9)\n",
    "\n",
    "# fit PCA\n",
    "my_PCA.fit(X_train_scaled)\n",
    "\n",
    "# Transform train and test\n",
    "X_train_PCA = my_PCA.transform(X_train_scaled)\n",
    "X_test_PCA = my_PCA.transform(X_test_scaled)"
   ]
  },
  {
   "cell_type": "code",
   "execution_count": 14,
   "id": "c6abcf11",
   "metadata": {
    "scrolled": true
   },
   "outputs": [
    {
     "name": "stdout",
     "output_type": "stream",
     "text": [
      "The shape of the independent variables in the training set:  (12798, 2743)\n",
      "The shape of the PCA train set is: (12798, 1891)\n"
     ]
    }
   ],
   "source": [
    "print('The shape of the independent variables in the training set: ', X_train.shape)\n",
    "print(f\"The shape of the PCA train set is: {X_train_PCA.shape}\")"
   ]
  },
  {
   "cell_type": "markdown",
   "id": "48f55f4d",
   "metadata": {},
   "source": [
    "We see that PCA reduced our columns from 2743 to 1891. Now let's check how long it takes to run a logistic regression with the initial scaled data and then transformed with PCA:"
   ]
  },
  {
   "cell_type": "code",
   "execution_count": 15,
   "id": "87ce64b6",
   "metadata": {},
   "outputs": [
    {
     "name": "stdout",
     "output_type": "stream",
     "text": [
      "8.21 s ± 344 ms per loop (mean ± std. dev. of 7 runs, 1 loop each)\n"
     ]
    }
   ],
   "source": [
    "%%timeit \n",
    "logreg.fit(X_train_scaled, y_train)"
   ]
  },
  {
   "cell_type": "code",
   "execution_count": 16,
   "id": "882d4b1d",
   "metadata": {},
   "outputs": [
    {
     "name": "stdout",
     "output_type": "stream",
     "text": [
      "4.75 s ± 90.2 ms per loop (mean ± std. dev. of 7 runs, 1 loop each)\n"
     ]
    }
   ],
   "source": [
    "%%timeit\n",
    "logreg.fit(X_train_PCA, y_train)"
   ]
  },
  {
   "cell_type": "markdown",
   "id": "e286cc4f",
   "metadata": {},
   "source": [
    "Reducing the dimensionality has also reduced the run time because there are fewer features included in the model computation. Therefore we can conclude that transforming the data with PCA will reduce the run time for the model."
   ]
  },
  {
   "cell_type": "markdown",
   "id": "b4397e3f",
   "metadata": {},
   "source": [
    "## Advantage vs Disadvantage of reducing dimensions with PCA<a class=\"anchor\" id=\"advantage\"></a>"
   ]
  },
  {
   "cell_type": "markdown",
   "id": "7cdcfa5f",
   "metadata": {},
   "source": [
    "As seen above, one advantage of dimensionality reduction is that it can help reduce the computational complexity of our model and therefore reduce the run time. This can be important when working with large data sets with many features, as training machine learning models on high-dimensional data can be computationally expensive.\n",
    "\n",
    "One disadvantage of dimensionality reduction is that it can result in loss of information. When reducing data, important information can become lost or distorted which can result in decreased accuracy of our model."
   ]
  },
  {
   "cell_type": "markdown",
   "id": "637f84f2",
   "metadata": {},
   "source": [
    "## K-Nearest Neighbour Classifier<a class=\"anchor\" id=\"knearest\"></a>"
   ]
  },
  {
   "cell_type": "markdown",
   "id": "baa401e6",
   "metadata": {},
   "source": [
    "Now we will fit a K-Nearest Neighbour classifier on our data. Since KNN is a distance-based model with features on different scales, we will need normalized data for this model. We will use the scaled data which we obtained earlier with the `StandardScaler()` function."
   ]
  },
  {
   "cell_type": "code",
   "execution_count": 17,
   "id": "e62fb368",
   "metadata": {},
   "outputs": [
    {
     "name": "stdout",
     "output_type": "stream",
     "text": [
      "Accuracy of KNN train score:  0.751211126738553\n",
      "Accuracy of KNN test score:  0.6367471291305367\n"
     ]
    }
   ],
   "source": [
    "# importing KNN\n",
    "from sklearn.neighbors import KNeighborsClassifier\n",
    "\n",
    "# instantiating KNN\n",
    "knn = KNeighborsClassifier()\n",
    " \n",
    "# fitting KNN\n",
    "knn.fit(X_train_scaled, y_train)\n",
    "\n",
    "# training and test score\n",
    "print('Accuracy of KNN train score: ', knn.score(X_train_scaled, y_train))\n",
    "print('Accuracy of KNN test score: ', knn.score(X_test_scaled, y_test))"
   ]
  },
  {
   "cell_type": "markdown",
   "id": "ca7517c5",
   "metadata": {},
   "source": [
    "Our KNN model gave us a 75% train score and 63% test score which, like our logistic regression, suggests overfitting."
   ]
  },
  {
   "cell_type": "markdown",
   "id": "b48df081",
   "metadata": {},
   "source": [
    "## Visualizing run-time and number of observations<a class=\"anchor\" id=\"visualizing\"></a>"
   ]
  },
  {
   "cell_type": "code",
   "execution_count": 18,
   "id": "7630f9e5",
   "metadata": {
    "scrolled": true
   },
   "outputs": [
    {
     "data": {
      "image/png": "[encoded data removed]",
      "text/plain": [
       "<Figure size 640x480 with 1 Axes>"
      ]
     },
     "metadata": {},
     "output_type": "display_data"
    }
   ],
   "source": [
    "#importing time\n",
    "import time\n",
    "\n",
    "# defining number of iterations and sample sizes\n",
    "num_iterations = 10\n",
    "sample_sizes_to_test = range(1000, 13000, 2000)\n",
    "\n",
    "# initializing lists to store the sample sizes and average times\n",
    "sample_sizes_plot = []\n",
    "average_times = []\n",
    "\n",
    "# looping through sample size to run KNN for each iteration\n",
    "for sample_size in sample_sizes_to_test:\n",
    "    total_time = 0\n",
    "    for i in range(num_iterations):\n",
    "        # Down-sample the training data to the specified sample size\n",
    "        random_indices = np.random.choice(X_train.shape[0], sample_size, replace=False)\n",
    "        X_train_sampled = X_train.iloc[random_indices]\n",
    "        y_train_sampled = y_train.iloc[random_indices]\n",
    "\n",
    "        # Fit the KNN model and measure the time taken\n",
    "        start_time = time.time()\n",
    "        knn = KNeighborsClassifier()\n",
    "        knn.fit(X_train_sampled, y_train_sampled)\n",
    "        total_time += time.time() - start_time\n",
    "\n",
    "    # Calculate the average time taken for the current sample size\n",
    "    avg_time = total_time / num_iterations\n",
    "\n",
    "    # Append the results to the lists for plotting\n",
    "    sample_sizes_plot.append(sample_size)\n",
    "    average_times.append(avg_time)\n",
    "\n",
    "# Create a line plot of sample size vs. average time\n",
    "plt.plot(sample_sizes_plot, average_times)\n",
    "plt.title('Sample Size vs. Average Run-Time for KNN')\n",
    "plt.xlabel('Sample Size')\n",
    "plt.ylabel('Average Run-Time (seconds)')\n",
    "plt.show()"
   ]
  },
  {
   "cell_type": "markdown",
   "id": "e89ca581",
   "metadata": {},
   "source": [
    "Since KNN is a distanced based model, lower number of observations result in a quicker run time. In the line plot above, we can see that there's almost a linear relationship between observations and average run-time, with the line taking a steeper turn up at the 5000 sample range before continuing to climb in time as we continue to introduce more samples. As seen with PCM, it's clear that less observations results in a faster processing time."
   ]
  },
  {
   "cell_type": "code",
   "execution_count": 19,
   "id": "953fd414",
   "metadata": {},
   "outputs": [],
   "source": [
    "# importing train_test_split\n",
    "from sklearn.model_selection import train_test_split\n",
    "\n",
    "# splitting data into train and validation, stratifying to y_train\n",
    "X_train, X_val, y_train, y_val = train_test_split(X_train, y_train, test_size=0.30, random_state=89, stratify=y_train)\n",
    "\n",
    "# scaling data\n",
    "scaler = StandardScaler()\n",
    "scaler.fit(X_train)\n",
    " \n",
    "# transforming the train and validation set\n",
    "X_train_scaled = scaler.transform(X_train)\n",
    "X_val_scaled = scaler.transform(X_val)"
   ]
  },
  {
   "cell_type": "code",
   "execution_count": 20,
   "id": "a76e6e48",
   "metadata": {},
   "outputs": [],
   "source": [
    "# setting up empty lists for training and validation accuracy\n",
    "training_accuracy = []\n",
    "validation_accuracy = []\n",
    "\n",
    "# range of k values to try\n",
    "neighbors_settings = range(1, 30, 2)\n",
    "\n",
    "# looping through the K values on scaled data\n",
    "for n_neighbors in neighbors_settings:\n",
    "    # building the model\n",
    "    knn = KNeighborsClassifier(n_neighbors=n_neighbors)\n",
    "    knn.fit(X_train_scaled, y_train)\n",
    "    \n",
    "    # recording the training set accuracy\n",
    "    training_accuracy.append(knn.score(X_train_scaled, y_train))\n",
    "    \n",
    "    # recording the generalization accuracy\n",
    "    validation_accuracy.append(knn.score(X_val_scaled, y_val))\n"
   ]
  },
  {
   "cell_type": "code",
   "execution_count": 21,
   "id": "8c7add91",
   "metadata": {},
   "outputs": [
    {
     "data": {
      "image/png": "[encoded data removed]",
      "text/plain": [
       "<Figure size 1000x800 with 1 Axes>"
      ]
     },
     "metadata": {},
     "output_type": "display_data"
    }
   ],
   "source": [
    "# plotting the training and validation accuracy\n",
    "plt.figure(figsize=(10, 8)) \n",
    "plt.plot(neighbors_settings, training_accuracy, label='training accuracy')\n",
    "plt.plot(neighbors_settings, validation_accuracy, label='validation accuracy')\n",
    "plt.title('Accuracy vs K Value')\n",
    "plt.ylabel('Accuracy')\n",
    "plt.xlabel('n_neighbors')\n",
    "plt.xticks(neighbors_settings)\n",
    "plt.legend()\n",
    "plt.show()"
   ]
  },
  {
   "cell_type": "markdown",
   "id": "f703fb93",
   "metadata": {},
   "source": [
    "Now let's confirm what the optimal `k_value` is for this data and fit it on the model:"
   ]
  },
  {
   "cell_type": "code",
   "execution_count": 22,
   "id": "c7ded4ea",
   "metadata": {},
   "outputs": [
    {
     "name": "stdout",
     "output_type": "stream",
     "text": [
      "The optimal value for K is:  25\n",
      "KNN training score is:  0.7357669122572003\n",
      "KNN test score is:  0.6948675884696508\n"
     ]
    }
   ],
   "source": [
    "# finding best_k\n",
    "best_k = neighbors_settings[validation_accuracy.index(max(validation_accuracy))]\n",
    "print('The optimal value for K is: ', best_k)\n",
    "\n",
    "# instantiating KNN model\n",
    "knn = KNeighborsClassifier(n_neighbors=best_k)\n",
    " \n",
    "# fitting the model to the train set\n",
    "knn.fit(X_train_scaled, y_train)\n",
    " \n",
    "# training and test score\n",
    "print('KNN training score is: ', knn.score(X_train_scaled, y_train))\n",
    "print('KNN test score is: ', knn.score(X_test_scaled, y_test))"
   ]
  },
  {
   "cell_type": "markdown",
   "id": "7bde6491",
   "metadata": {},
   "source": [
    "Our optimal K value of 25 produced a training score of 74% and test score of 69% which is not as good as the Logistic Regression score."
   ]
  },
  {
   "cell_type": "markdown",
   "id": "dd7e3645",
   "metadata": {},
   "source": [
    "## Issue with splitting data into validation sets after vectorization<a class=\"anchor\" id=\"issue\"></a>"
   ]
  },
  {
   "cell_type": "markdown",
   "id": "ae777a14",
   "metadata": {},
   "source": [
    "Splitting the data into train and validation sets before vectorizing, as in this case, can lead to data leakage where information from the validation set leaks into the training set, leading to over-optimistic performance estimates. Since we are using information from the validation set to vectorize our data, it means that the model can have an advantage when we test it on the validation set itself. Instead, the validation should be done before vectorization occurs, and stored away for testing purposes in the modelling part."
   ]
  },
  {
   "cell_type": "markdown",
   "id": "9ffad77b",
   "metadata": {},
   "source": [
    "## Decision Tree Classifier<a class=\"anchor\" id=\"tree\"></a>"
   ]
  },
  {
   "cell_type": "markdown",
   "id": "0b6e732f",
   "metadata": {},
   "source": [
    "Now we can fit a Decision Tree classifier on our data. Since Decision Trees are ensemble methods, they are not that sensitive to variance in the data"
   ]
  },
  {
   "cell_type": "code",
   "execution_count": 23,
   "id": "e716cae9",
   "metadata": {},
   "outputs": [
    {
     "name": "stdout",
     "output_type": "stream",
     "text": [
      "Accuracy of Decision Tree train score is 1.0\n",
      "Accuracy of Decision Tree test score is 0.6880712444340286\n"
     ]
    }
   ],
   "source": [
    "# import Decision Trees\n",
    "from sklearn.tree import DecisionTreeClassifier\n",
    "\n",
    "# Instantiate the model \n",
    "DT = DecisionTreeClassifier()\n",
    "\n",
    "# Fit the model \n",
    "DT.fit(X_train, y_train)\n",
    "\n",
    "# Scoring\n",
    "print(f\"Accuracy of Decision Tree train score is {DT.score(X_train, y_train)}\")\n",
    "print(f\"Accuracy of Decision Tree test score is {DT.score(X_test, y_test)}\")"
   ]
  },
  {
   "cell_type": "markdown",
   "id": "d62ac93c",
   "metadata": {},
   "source": [
    "The initial run of the model produced a train score of 100% and a test score of 69%, so the model is clearly overfitting. In this case, the model has memorized the noise of the data and failed to identify the underlying patterns. Let's further split our data into train and validation sets and find the optimal k value by running a loop and appending and plotting the accuracies:"
   ]
  },
  {
   "cell_type": "code",
   "execution_count": 24,
   "id": "32614c48",
   "metadata": {},
   "outputs": [],
   "source": [
    "# splitting data into train and validation, stratifying to y_train\n",
    "X_train, X_val, y_train, y_val = train_test_split(X_train, y_train, test_size=0.30, random_state=89, stratify=y_train)\n",
    "\n",
    "# range of depths to try \n",
    "depths = range(1, 21)\n",
    "\n",
    "# appending to lists\n",
    "train_acc = []\n",
    "val_acc = []\n",
    "\n",
    "# looping through the depths\n",
    "for max_depth in depths:\n",
    "    \n",
    "    # innstantiating the model \n",
    "    DT = DecisionTreeClassifier(max_depth=max_depth)\n",
    "    \n",
    "    # fitting the model \n",
    "    DT.fit(X_train, y_train)\n",
    "    \n",
    "    # scoring model \n",
    "    train_acc.append(DT.score(X_train, y_train))\n",
    "    val_acc.append(DT.score(X_val, y_val))"
   ]
  },
  {
   "cell_type": "code",
   "execution_count": 58,
   "id": "6e953c61",
   "metadata": {},
   "outputs": [
    {
     "data": {
      "image/png": "[encoded data removed]",
      "text/plain": [
       "<Figure size 640x480 with 1 Axes>"
      ]
     },
     "metadata": {},
     "output_type": "display_data"
    }
   ],
   "source": [
    "# plotting the accuracies\n",
    "plt.figure()\n",
    "plt.plot(depths, train_acc, c='red', label='train accuracy')\n",
    "plt.plot(depths, val_acc, c='blue', label='validation accuracy')\n",
    "plt.ylabel('Accuracy')\n",
    "plt.xlabel('Max Depth')\n",
    "plt.xticks(depths)\n",
    "plt.legend()\n",
    "plt.show()"
   ]
  },
  {
   "cell_type": "code",
   "execution_count": 26,
   "id": "00e55e87",
   "metadata": {},
   "outputs": [
    {
     "name": "stdout",
     "output_type": "stream",
     "text": [
      "The optimal depth value is:  6\n",
      "Accuracy of Decision Tree train score is 0.7763955342902711\n",
      "Accuracy of Decision Tree test score is 0.7511160714285714\n"
     ]
    }
   ],
   "source": [
    "# finding best depth\n",
    "best_depth = depths[val_acc.index(max(val_acc))]\n",
    "print('The optimal depth value is: ', best_depth)\n",
    "\n",
    "# Instantiate the model \n",
    "DT = DecisionTreeClassifier(max_depth=best_depth)\n",
    "\n",
    "# Fit the model \n",
    "DT.fit(X_train, y_train)\n",
    "\n",
    "# Score\n",
    "print(f\"Accuracy of Decision Tree train score is {DT.score(X_train, y_train)}\")\n",
    "print(f\"Accuracy of Decision Tree test score is {DT.score(X_val, y_val)}\")"
   ]
  },
  {
   "cell_type": "markdown",
   "id": "d509b7f8",
   "metadata": {},
   "source": [
    "Optimizing our model with the depth of 6 lowered our train score to 78% but raised our test score to 75%. Both scores are now closer together, signifying that there is less overfitting being done. The test score of 75% is higher than both KNN and Logistic Regression."
   ]
  },
  {
   "cell_type": "markdown",
   "id": "ee15ba4c",
   "metadata": {},
   "source": [
    "## Advantages and weaknesses of Decision Trees over KNN<a class=\"anchor\" id=\"weakness\"></a>"
   ]
  },
  {
   "cell_type": "markdown",
   "id": "875a366d",
   "metadata": {},
   "source": [
    "There are several advantages and disadvantages when it comes to choosing Decision Trees over KNN.\n",
    "\n",
    "Decision Trees are easier to interpret and understand than KNN since instances are represented in a tree structure, making it easier to visualize and comprehend. Decision trees are a non-parametric model, which means they do not make assumptions about the data. This can also be helpful in understanding the reasoning behind the classification. Another advantage of Decision Trees is scalability, meaning they are faster to train than KNN since KNN requires computing distances between all pairs of instances, which can become computationally expensive when dealing with large datasets. Decision trees can be trained with an iterative, top-down approach that only considers a subset of features at each step.\n",
    "\n",
    "One disadvantage of decision trees is that they can be prone to overfitting which occurs when the model fits the training data too closely. This can lead to poor generalization performance on unseen data, making them less accurate than KNN. Another disadvantage is that Decision Tree's can be a bit unstable where small changes in the data or model parameters can lead to significant changes in the resulting decision tree. This can make decision trees less reliable than KNN. "
   ]
  },
  {
   "cell_type": "markdown",
   "id": "f913b2b8",
   "metadata": {},
   "source": [
    "## Purpose of Validation Set<a class=\"anchor\" id=\"purpose\"></a>"
   ]
  },
  {
   "attachments": {},
   "cell_type": "markdown",
   "id": "32d63ba3",
   "metadata": {},
   "source": [
    "The purpose of the validation set is to evaluate the performance of a machine-learning model during the training phase. Since the machine learning model is trained on a set of training data to learn patterns and relationships between the input data and target variable, it is important to evaluate performance on a separate set of data, the validation set, to ensure that the model is not overfitting to the training data. Overall, the purpose of the validation set is to ensure that the machine-learning model generalizes to new, unseen data and to help improve performance of the model during the training phase."
   ]
  },
  {
   "cell_type": "markdown",
   "id": "f6674184",
   "metadata": {},
   "source": [
    "## 5-Fold cross validation<a class=\"anchor\" id=\"5fold\"></a>"
   ]
  },
  {
   "cell_type": "markdown",
   "id": "1adadd65",
   "metadata": {},
   "source": [
    "Now we will build a pipeline and re run our Logistic Regression model to optimize for the best hyperparameters. We will test Standard and MinMax Scalers, PCA components of 80 and 90%, various C parameters and L1 and L2 penalties. We will keep the max_iteration at 1000 to reduce run time. We will also perform a 5-fold cross validation with the KFold class which will split our dataset into 5 folds of equal sizes. These folds will be used to train and evaluate different subsets of the data to see how well our model will generalize to new data. Let's get started below:"
   ]
  },
  {
   "cell_type": "code",
   "execution_count": 56,
   "id": "9f84d8da",
   "metadata": {},
   "outputs": [],
   "source": [
    "# importing necessary modules\n",
    "from sklearn.model_selection import GridSearchCV, KFold\n",
    "from sklearn.preprocessing import StandardScaler, MinMaxScaler\n",
    "from sklearn.pipeline import Pipeline\n",
    "\n",
    "\n",
    "# define the pipeline\n",
    "pipe = Pipeline([\n",
    "    ('scaler', StandardScaler()),\n",
    "    ('minmax', MinMaxScaler()),\n",
    "    ('pca', PCA()),\n",
    "    ('model', LogisticRegression(max_iter = 1000))\n",
    "])\n",
    "\n",
    "# define the grid of hyperparameters to search\n",
    "param_grid = {\n",
    "    'scaler': [StandardScaler(), MinMaxScaler()],\n",
    "    'pca__n_components': [.80, .90],\n",
    "    'model__C': [0.01, 0.1, 1, 10, 100],\n",
    "    'model__penalty': ['l1', 'l2'],\n",
    "\n",
    "}\n",
    "\n",
    "# define the cross-validation procedure\n",
    "cv = KFold(n_splits=5, shuffle=True, random_state=42)"
   ]
  },
  {
   "cell_type": "code",
   "execution_count": 57,
   "id": "7e5bb6f4",
   "metadata": {},
   "outputs": [
    {
     "name": "stdout",
     "output_type": "stream",
     "text": [
      "Fitting 5 folds for each of 40 candidates, totalling 200 fits\n",
      "[CV 4/5] END model__C=0.01, model__penalty=l1, pca__n_components=0.8, scaler=StandardScaler();, score=nan total time= 1.4min\n",
      "[CV 5/5] END model__C=0.01, model__penalty=l1, pca__n_components=0.8, scaler=StandardScaler();, score=nan total time= 1.4min\n",
      "[CV 4/5] END model__C=0.01, model__penalty=l1, pca__n_components=0.8, scaler=MinMaxScaler();, score=nan total time= 1.3min\n"
     ]
    },
    {
     "name": "stderr",
     "output_type": "stream",
     "text": [
      "/opt/anaconda3/lib/python3.8/site-packages/joblib/externals/loky/process_executor.py:702: UserWarning: A worker stopped while some jobs were given to the executor. This can be caused by a too short worker timeout or by a memory leak.\n",
      "  warnings.warn(\n"
     ]
    },
    {
     "name": "stdout",
     "output_type": "stream",
     "text": [
      "[CV 2/5] END model__C=0.01, model__penalty=l1, pca__n_components=0.8, scaler=StandardScaler();, score=nan total time= 1.4min\n",
      "[CV 1/5] END model__C=0.01, model__penalty=l1, pca__n_components=0.8, scaler=MinMaxScaler();, score=nan total time= 1.4min\n",
      "[CV 5/5] END model__C=0.01, model__penalty=l1, pca__n_components=0.8, scaler=MinMaxScaler();, score=nan total time= 1.3min\n",
      "[CV 3/5] END model__C=0.01, model__penalty=l1, pca__n_components=0.9, scaler=StandardScaler();, score=nan total time= 1.4min\n",
      "[CV 2/5] END model__C=0.01, model__penalty=l1, pca__n_components=0.9, scaler=MinMaxScaler();, score=nan total time= 1.5min\n",
      "[CV 1/5] END model__C=0.01, model__penalty=l2, pca__n_components=0.8, scaler=StandardScaler();, score=0.760 total time= 1.4min\n",
      "[CV 5/5] END model__C=0.01, model__penalty=l2, pca__n_components=0.8, scaler=StandardScaler();, score=0.762 total time= 1.5min\n",
      "[CV 4/5] END model__C=0.01, model__penalty=l2, pca__n_components=0.8, scaler=MinMaxScaler();, score=0.772 total time= 1.7min\n",
      "[CV 3/5] END model__C=0.01, model__penalty=l2, pca__n_components=0.9, scaler=StandardScaler();, score=0.766 total time= 1.3min\n",
      "[CV 2/5] END model__C=0.01, model__penalty=l2, pca__n_components=0.9, scaler=MinMaxScaler();, score=0.747 total time= 1.5min\n",
      "[CV 1/5] END model__C=0.1, model__penalty=l1, pca__n_components=0.8, scaler=StandardScaler();, score=nan total time= 1.7min\n",
      "[CV 5/5] END model__C=0.1, model__penalty=l1, pca__n_components=0.8, scaler=StandardScaler();, score=nan total time= 1.6min\n",
      "[CV 4/5] END model__C=0.1, model__penalty=l1, pca__n_components=0.8, scaler=MinMaxScaler();, score=nan total time= 1.9min\n",
      "[CV 3/5] END model__C=0.1, model__penalty=l1, pca__n_components=0.9, scaler=StandardScaler();, score=nan total time= 2.5min\n",
      "[CV 2/5] END model__C=0.1, model__penalty=l1, pca__n_components=0.9, scaler=MinMaxScaler();, score=nan total time= 1.8min\n",
      "[CV 1/5] END model__C=0.1, model__penalty=l2, pca__n_components=0.8, scaler=StandardScaler();, score=0.770 total time= 1.8min\n",
      "[CV 5/5] END model__C=0.1, model__penalty=l2, pca__n_components=0.8, scaler=StandardScaler();, score=0.773 total time= 1.9min\n",
      "[CV 4/5] END model__C=0.1, model__penalty=l2, pca__n_components=0.8, scaler=MinMaxScaler();, score=0.795 total time= 1.8min\n",
      "[CV 3/5] END model__C=0.1, model__penalty=l2, pca__n_components=0.9, scaler=StandardScaler();, score=0.798 total time= 1.9min\n",
      "[CV 2/5] END model__C=0.1, model__penalty=l2, pca__n_components=0.9, scaler=MinMaxScaler();, score=0.762 total time= 1.8min\n",
      "[CV 1/5] END model__C=1, model__penalty=l1, pca__n_components=0.8, scaler=StandardScaler();, score=nan total time= 1.6min\n",
      "[CV 5/5] END model__C=1, model__penalty=l1, pca__n_components=0.8, scaler=StandardScaler();, score=nan total time= 1.5min\n",
      "[CV 4/5] END model__C=1, model__penalty=l1, pca__n_components=0.8, scaler=MinMaxScaler();, score=nan total time= 1.5min\n",
      "[CV 3/5] END model__C=1, model__penalty=l1, pca__n_components=0.9, scaler=StandardScaler();, score=nan total time= 1.5min\n",
      "[CV 2/5] END model__C=1, model__penalty=l1, pca__n_components=0.9, scaler=MinMaxScaler();, score=nan total time= 1.5min\n",
      "[CV 1/5] END model__C=1, model__penalty=l2, pca__n_components=0.8, scaler=StandardScaler();, score=0.774 total time= 1.5min\n",
      "[CV 5/5] END model__C=1, model__penalty=l2, pca__n_components=0.8, scaler=StandardScaler();, score=0.771 total time= 1.5min\n",
      "[CV 4/5] END model__C=1, model__penalty=l2, pca__n_components=0.8, scaler=MinMaxScaler();, score=0.777 total time= 1.5min\n",
      "[CV 3/5] END model__C=1, model__penalty=l2, pca__n_components=0.9, scaler=StandardScaler();, score=0.787 total time= 1.6min\n",
      "[CV 2/5] END model__C=1, model__penalty=l2, pca__n_components=0.9, scaler=MinMaxScaler();, score=0.767 total time= 1.8min\n",
      "[CV 1/5] END model__C=10, model__penalty=l1, pca__n_components=0.8, scaler=StandardScaler();, score=nan total time= 1.6min\n",
      "[CV 5/5] END model__C=10, model__penalty=l1, pca__n_components=0.8, scaler=StandardScaler();, score=nan total time= 1.4min\n",
      "[CV 4/5] END model__C=10, model__penalty=l1, pca__n_components=0.8, scaler=MinMaxScaler();, score=nan total time= 1.4min\n",
      "[CV 3/5] END model__C=10, model__penalty=l1, pca__n_components=0.9, scaler=StandardScaler();, score=nan total time= 1.6min\n",
      "[CV 2/5] END model__C=10, model__penalty=l1, pca__n_components=0.9, scaler=MinMaxScaler();, score=nan total time= 1.7min\n",
      "[CV 1/5] END model__C=10, model__penalty=l2, pca__n_components=0.8, scaler=StandardScaler();, score=0.755 total time= 1.5min\n",
      "[CV 5/5] END model__C=10, model__penalty=l2, pca__n_components=0.8, scaler=StandardScaler();, score=0.763 total time= 1.9min\n",
      "[CV 4/5] END model__C=10, model__penalty=l2, pca__n_components=0.8, scaler=MinMaxScaler();, score=0.770 total time= 1.4min\n",
      "[CV 3/5] END model__C=10, model__penalty=l2, pca__n_components=0.9, scaler=StandardScaler();, score=0.766 total time= 2.4min\n",
      "[CV 2/5] END model__C=10, model__penalty=l2, pca__n_components=0.9, scaler=MinMaxScaler();, score=0.742 total time= 2.0min\n",
      "[CV 1/5] END model__C=100, model__penalty=l1, pca__n_components=0.8, scaler=StandardScaler();, score=nan total time= 1.5min\n",
      "[CV 5/5] END model__C=100, model__penalty=l1, pca__n_components=0.8, scaler=StandardScaler();, score=nan total time= 1.7min\n",
      "[CV 3/5] END model__C=0.01, model__penalty=l1, pca__n_components=0.8, scaler=StandardScaler();, score=nan total time= 1.5min\n",
      "[CV 2/5] END model__C=0.01, model__penalty=l1, pca__n_components=0.8, scaler=MinMaxScaler();, score=nan total time= 1.4min\n",
      "[CV 1/5] END model__C=0.01, model__penalty=l1, pca__n_components=0.9, scaler=StandardScaler();, score=nan total time= 1.3min\n",
      "[CV 4/5] END model__C=0.01, model__penalty=l1, pca__n_components=0.9, scaler=StandardScaler();, score=nan total time= 1.4min\n",
      "[CV 3/5] END model__C=0.01, model__penalty=l1, pca__n_components=0.9, scaler=MinMaxScaler();, score=nan total time= 1.5min\n",
      "[CV 2/5] END model__C=0.01, model__penalty=l2, pca__n_components=0.8, scaler=StandardScaler();, score=0.748 total time= 1.4min\n",
      "[CV 1/5] END model__C=0.01, model__penalty=l2, pca__n_components=0.8, scaler=MinMaxScaler();, score=0.760 total time= 1.6min\n",
      "[CV 5/5] END model__C=0.01, model__penalty=l2, pca__n_components=0.8, scaler=MinMaxScaler();, score=0.762 total time= 1.7min\n",
      "[CV 4/5] END model__C=0.01, model__penalty=l2, pca__n_components=0.9, scaler=StandardScaler();, score=0.773 total time= 1.3min\n",
      "[CV 3/5] END model__C=0.01, model__penalty=l2, pca__n_components=0.9, scaler=MinMaxScaler();, score=0.766 total time= 1.5min\n",
      "[CV 2/5] END model__C=0.1, model__penalty=l1, pca__n_components=0.8, scaler=StandardScaler();, score=nan total time= 1.8min\n",
      "[CV 1/5] END model__C=0.1, model__penalty=l1, pca__n_components=0.8, scaler=MinMaxScaler();, score=nan total time= 1.7min\n",
      "[CV 5/5] END model__C=0.1, model__penalty=l1, pca__n_components=0.8, scaler=MinMaxScaler();, score=nan total time= 1.9min\n",
      "[CV 4/5] END model__C=0.1, model__penalty=l1, pca__n_components=0.9, scaler=StandardScaler();, score=nan total time= 2.5min\n",
      "[CV 3/5] END model__C=0.1, model__penalty=l1, pca__n_components=0.9, scaler=MinMaxScaler();, score=nan total time= 1.7min\n",
      "[CV 2/5] END model__C=0.1, model__penalty=l2, pca__n_components=0.8, scaler=StandardScaler();, score=0.766 total time= 1.8min\n",
      "[CV 1/5] END model__C=0.1, model__penalty=l2, pca__n_components=0.8, scaler=MinMaxScaler();, score=0.770 total time= 1.9min\n",
      "[CV 5/5] END model__C=0.1, model__penalty=l2, pca__n_components=0.8, scaler=MinMaxScaler();, score=0.773 total time= 1.8min\n",
      "[CV 4/5] END model__C=0.1, model__penalty=l2, pca__n_components=0.9, scaler=StandardScaler();, score=0.795 total time= 1.9min\n",
      "[CV 3/5] END model__C=0.1, model__penalty=l2, pca__n_components=0.9, scaler=MinMaxScaler();, score=0.798 total time= 1.9min\n",
      "[CV 2/5] END model__C=1, model__penalty=l1, pca__n_components=0.8, scaler=StandardScaler();, score=nan total time= 1.6min\n",
      "[CV 1/5] END model__C=1, model__penalty=l1, pca__n_components=0.8, scaler=MinMaxScaler();, score=nan total time= 1.5min\n",
      "[CV 5/5] END model__C=1, model__penalty=l1, pca__n_components=0.8, scaler=MinMaxScaler();, score=nan total time= 1.5min\n",
      "[CV 4/5] END model__C=1, model__penalty=l1, pca__n_components=0.9, scaler=StandardScaler();, score=nan total time= 1.5min\n",
      "[CV 3/5] END model__C=1, model__penalty=l1, pca__n_components=0.9, scaler=MinMaxScaler();, score=nan total time= 1.5min\n",
      "[CV 2/5] END model__C=1, model__penalty=l2, pca__n_components=0.8, scaler=StandardScaler();, score=0.762 total time= 1.5min\n",
      "[CV 1/5] END model__C=1, model__penalty=l2, pca__n_components=0.8, scaler=MinMaxScaler();, score=0.774 total time= 1.5min\n",
      "[CV 5/5] END model__C=1, model__penalty=l2, pca__n_components=0.8, scaler=MinMaxScaler();, score=0.771 total time= 1.5min\n",
      "[CV 4/5] END model__C=1, model__penalty=l2, pca__n_components=0.9, scaler=StandardScaler();, score=0.784 total time= 1.6min\n",
      "[CV 3/5] END model__C=1, model__penalty=l2, pca__n_components=0.9, scaler=MinMaxScaler();, score=0.787 total time= 1.8min\n",
      "[CV 2/5] END model__C=10, model__penalty=l1, pca__n_components=0.8, scaler=StandardScaler();, score=nan total time= 1.7min\n",
      "[CV 1/5] END model__C=10, model__penalty=l1, pca__n_components=0.8, scaler=MinMaxScaler();, score=nan total time= 1.4min\n",
      "[CV 5/5] END model__C=10, model__penalty=l1, pca__n_components=0.8, scaler=MinMaxScaler();, score=nan total time= 1.5min\n",
      "[CV 4/5] END model__C=10, model__penalty=l1, pca__n_components=0.9, scaler=StandardScaler();, score=nan total time= 1.7min\n",
      "[CV 3/5] END model__C=10, model__penalty=l1, pca__n_components=0.9, scaler=MinMaxScaler();, score=nan total time= 1.6min\n",
      "[CV 2/5] END model__C=10, model__penalty=l2, pca__n_components=0.8, scaler=StandardScaler();, score=0.752 total time= 1.7min\n",
      "[CV 1/5] END model__C=10, model__penalty=l2, pca__n_components=0.8, scaler=MinMaxScaler();, score=0.755 total time= 1.7min\n",
      "[CV 5/5] END model__C=10, model__penalty=l2, pca__n_components=0.8, scaler=MinMaxScaler();, score=0.763 total time= 1.7min\n",
      "[CV 4/5] END model__C=10, model__penalty=l2, pca__n_components=0.9, scaler=StandardScaler();, score=0.772 total time= 2.4min\n",
      "[CV 3/5] END model__C=10, model__penalty=l2, pca__n_components=0.9, scaler=MinMaxScaler();, score=0.766 total time= 1.8min\n"
     ]
    },
    {
     "name": "stdout",
     "output_type": "stream",
     "text": [
      "[CV 2/5] END model__C=100, model__penalty=l1, pca__n_components=0.8, scaler=StandardScaler();, score=nan total time= 1.5min\n",
      "[CV 1/5] END model__C=100, model__penalty=l1, pca__n_components=0.8, scaler=MinMaxScaler();, score=nan total time= 1.8min\n"
     ]
    },
    {
     "name": "stderr",
     "output_type": "stream",
     "text": [
      "/opt/anaconda3/lib/python3.8/site-packages/sklearn/model_selection/_validation.py:378: FitFailedWarning: \n",
      "100 fits failed out of a total of 200.\n",
      "The score on these train-test partitions for these parameters will be set to nan.\n",
      "If these failures are not expected, you can try to debug them by setting error_score='raise'.\n",
      "\n",
      "Below are more details about the failures:\n",
      "--------------------------------------------------------------------------------\n",
      "100 fits failed with the following error:\n",
      "Traceback (most recent call last):\n",
      "  File \"/opt/anaconda3/lib/python3.8/site-packages/sklearn/model_selection/_validation.py\", line 686, in _fit_and_score\n",
      "    estimator.fit(X_train, y_train, **fit_params)\n",
      "  File \"/opt/anaconda3/lib/python3.8/site-packages/sklearn/pipeline.py\", line 405, in fit\n",
      "    self._final_estimator.fit(Xt, y, **fit_params_last_step)\n",
      "  File \"/opt/anaconda3/lib/python3.8/site-packages/sklearn/linear_model/_logistic.py\", line 1162, in fit\n",
      "    solver = _check_solver(self.solver, self.penalty, self.dual)\n",
      "  File \"/opt/anaconda3/lib/python3.8/site-packages/sklearn/linear_model/_logistic.py\", line 54, in _check_solver\n",
      "    raise ValueError(\n",
      "ValueError: Solver lbfgs supports only 'l2' or 'none' penalties, got l1 penalty.\n",
      "\n",
      "  warnings.warn(some_fits_failed_message, FitFailedWarning)\n",
      "/opt/anaconda3/lib/python3.8/site-packages/sklearn/model_selection/_search.py:952: UserWarning: One or more of the test scores are non-finite: [       nan        nan        nan        nan 0.76060606 0.76060606\n",
      " 0.76092504 0.76092504        nan        nan        nan        nan\n",
      " 0.78022329 0.78022329 0.78054226 0.78054226        nan        nan\n",
      "        nan        nan 0.77511962 0.77511962 0.77352472 0.77352472\n",
      "        nan        nan        nan        nan 0.76283892 0.76283892\n",
      " 0.75247209 0.75247209        nan        nan        nan        nan\n",
      " 0.76140351 0.76140351 0.74577352 0.74577352]\n",
      "  warnings.warn(\n"
     ]
    }
   ],
   "source": [
    "# define the grid search procedure\n",
    "grid_search = GridSearchCV(\n",
    "    estimator=pipe,\n",
    "    param_grid=param_grid,\n",
    "    cv=cv,\n",
    "    n_jobs=-1,\n",
    "    verbose=5\n",
    ")\n",
    "\n",
    "# fit the grid search\n",
    "fitted_grid = grid_search.fit(X_train, y_train)"
   ]
  },
  {
   "cell_type": "code",
   "execution_count": 59,
   "id": "30462134",
   "metadata": {
    "scrolled": false
   },
   "outputs": [
    {
     "name": "stdout",
     "output_type": "stream",
     "text": [
      "Best score: 0.7805\n",
      "Best hyperparameters: {'model__C': 0.1, 'model__penalty': 'l2', 'pca__n_components': 0.9, 'scaler': StandardScaler()}\n"
     ]
    }
   ],
   "source": [
    "# print the best score and hyperparameters\n",
    "print(\"Best score: {:.4f}\".format(grid_search.best_score_))\n",
    "print(\"Best hyperparameters:\", grid_search.best_params_)"
   ]
  },
  {
   "cell_type": "markdown",
   "id": "36170e2b",
   "metadata": {},
   "source": [
    "Our best model came out with a score of 78.05% and they hyperparameters including:\n",
    "\n",
    "- C Value: 0.1\n",
    "- Penalty: L2\n",
    "- PCA components: 90%\n",
    "- Scaler: StandardScaler()\n",
    "\n",
    "Next, let's create a Confusion Matrix from these values"
   ]
  },
  {
   "cell_type": "markdown",
   "id": "33779c30",
   "metadata": {},
   "source": [
    "## Creating Confusion Matrix<a class=\"anchor\" id=\"confusion\"></a>"
   ]
  },
  {
   "cell_type": "code",
   "execution_count": 70,
   "id": "326c358e",
   "metadata": {},
   "outputs": [],
   "source": [
    "from sklearn.metrics import confusion_matrix\n",
    "from sklearn.metrics import classification_report\n",
    "\n",
    "#re running best hyperparameters\n",
    "pipeline = Pipeline([\n",
    "    ('scaler', StandardScaler()),\n",
    "    ('pca', PCA(n_components=0.9)),\n",
    "    ('model', LogisticRegression(C=0.1, penalty='l2'))\n",
    "])\n",
    "\n",
    "#fitting pipeline\n",
    "pipeline.fit(X_train, y_train)\n",
    "\n",
    "#making predictions with fitted pipeline\n",
    "y_pred = pipeline.predict(X_test)"
   ]
  },
  {
   "cell_type": "code",
   "execution_count": 71,
   "id": "dce7b921",
   "metadata": {},
   "outputs": [
    {
     "data": {
      "image/png": "[encoded data removed]",
      "text/plain": [
       "<Figure size 640x480 with 2 Axes>"
      ]
     },
     "metadata": {},
     "output_type": "display_data"
    },
    {
     "name": "stdout",
     "output_type": "stream",
     "text": [
      "              precision    recall  f1-score   support\n",
      "\n",
      "           0       0.71      0.71      0.71      1809\n",
      "           1       0.79      0.79      0.79      2458\n",
      "\n",
      "    accuracy                           0.75      4267\n",
      "   macro avg       0.75      0.75      0.75      4267\n",
      "weighted avg       0.75      0.75      0.75      4267\n",
      "\n"
     ]
    }
   ],
   "source": [
    "#setting up and displaying confusion matrix\n",
    "cm = confusion_matrix(y_test, y_pred)\n",
    "\n",
    "sns.heatmap(cm, annot=True, cmap='Blues', fmt='g')\n",
    "plt.title('Confusion Matrix')\n",
    "plt.xlabel('Predicted Labels')\n",
    "plt.ylabel('True Labels')\n",
    "plt.show()\n",
    "\n",
    "#printing classification report\n",
    "print(classification_report(y_test, y_pred))"
   ]
  },
  {
   "cell_type": "markdown",
   "id": "21016662",
   "metadata": {},
   "source": [
    "Our Confusion Matrix can be better interpreted with the following table:\n",
    "\n",
    "|                 | Predicted Negative | Predicted Positive |\n",
    "|-----------------|--------------------|--------------------|\n",
    "| 0| True Negative      | False Positive     |\n",
    "| 1 | False Negative     | True Positive      |"
   ]
  },
  {
   "attachments": {},
   "cell_type": "markdown",
   "id": "941d85c1",
   "metadata": {},
   "source": [
    "Our model achieved 75% accuracy, which is better than the initial model of 73%. This means that our model correctly predicted 75% of observations in our test set. However, our precision and recall score is a bit imbalanced with our model predicting 528 false negatives and 519 false positives. Precision measures the percentage of correctly predicted positive instances out of all that were predicted positive, while recall measures the percentage of correctly predicted positive instances out of all actual positives in the dataset. Perhaps we can improve our results by engineering a new feature."
   ]
  },
  {
   "cell_type": "markdown",
   "id": "c7c4c22b",
   "metadata": {},
   "source": [
    "## Engineering a new feature<a class=\"anchor\" id=\"engineering\"></a>"
   ]
  },
  {
   "cell_type": "markdown",
   "id": "40785356",
   "metadata": {},
   "source": [
    "While our dataset contains dates in terms of days, months, and years, it's missing the season that the review was written in. This can be important because travellers use hotels during different seasons and the time of year can have an impact on the sentiment of a review. Categorizing the months into seasons can potentially improve the accuracy of our model. First, let's combine the original train / test dataset to create our new feature."
   ]
  },
  {
   "cell_type": "code",
   "execution_count": 114,
   "id": "b4e7374f",
   "metadata": {},
   "outputs": [
    {
     "name": "stdout",
     "output_type": "stream",
     "text": [
      "The shape of our dataset is 17065 rows and 2744 columns\n"
     ]
    }
   ],
   "source": [
    "# combining our train and test data \n",
    "hotelsdf = pd.concat([hotels_train, hotels_test], axis=0)\n",
    "\n",
    "# checking shape\n",
    "print(f\"The shape of our dataset is {hotelsdf.shape[0]} rows and {hotelsdf.shape[1]} columns\")"
   ]
  },
  {
   "cell_type": "markdown",
   "id": "db1d2b84",
   "metadata": {},
   "source": [
    "Now we can create our new feature called `season` using `month_of_review` column:"
   ]
  },
  {
   "cell_type": "code",
   "execution_count": 115,
   "id": "ee1c1bd9",
   "metadata": {
    "scrolled": true
   },
   "outputs": [
    {
     "data": {
      "text/plain": [
       "season\n",
       "winter    4625\n",
       "spring    4440\n",
       "summer    4181\n",
       "fall      3819\n",
       "dtype: int64"
      ]
     },
     "execution_count": 115,
     "metadata": {},
     "output_type": "execute_result"
    }
   ],
   "source": [
    "# creating season using lambda functions\n",
    "hotelsdf['season'] = hotelsdf['month_of_review'].apply(lambda x: 'winter' if x in [12, 1, 2] \n",
    "                                           else ('spring' if x in [3, 4, 5] \n",
    "                                                 else ('summer' if x in [6, 7, 8] \n",
    "                                                       else 'fall')))\n",
    "\n",
    "# checking results\n",
    "hotelsdf.value_counts('season')"
   ]
  },
  {
   "cell_type": "markdown",
   "id": "09bbf4c8",
   "metadata": {},
   "source": [
    "Next, let's create dummy variables by OneHotEncoding the seasons into our DataFrame"
   ]
  },
  {
   "cell_type": "code",
   "execution_count": 116,
   "id": "459e56c2",
   "metadata": {},
   "outputs": [
    {
     "data": {
      "text/plain": [
       "<17065x4 sparse matrix of type '<class 'numpy.float64'>'\n",
       "\twith 17065 stored elements in Compressed Sparse Row format>"
      ]
     },
     "execution_count": 116,
     "metadata": {},
     "output_type": "execute_result"
    }
   ],
   "source": [
    "# import OHE\n",
    "from sklearn.preprocessing import OneHotEncoder\n",
    "\n",
    "# Instantiate the OneHotEncoderb\n",
    "ohe = OneHotEncoder()\n",
    "\n",
    "# Fit the OneHotEncoder to the subcategory column and transform\n",
    "# It expects a 2D array, so we first convert the column into a DataFrame\n",
    "seasons = pd.DataFrame(hotelsdf['season'])\n",
    "encoded = ohe.fit_transform(seasons)\n",
    "encoded\n"
   ]
  },
  {
   "cell_type": "code",
   "execution_count": 117,
   "id": "0e0385b5",
   "metadata": {},
   "outputs": [
    {
     "data": {
      "text/plain": [
       "[array(['fall', 'spring', 'summer', 'winter'], dtype=object)]"
      ]
     },
     "execution_count": 117,
     "metadata": {},
     "output_type": "execute_result"
    }
   ],
   "source": [
    "# Convert from sparse matrix to dense\n",
    "dense_array = encoded.todense()\n",
    "dense_array\n",
    "\n",
    "#getting categories\n",
    "ohe.categories_"
   ]
  },
  {
   "cell_type": "code",
   "execution_count": 118,
   "id": "5b7c46ce",
   "metadata": {},
   "outputs": [],
   "source": [
    "#renaming categories\n",
    "categories = ['season_fall', 'season_spring', 'season_summer',\n",
    "        'season_winter']\n",
    "\n",
    "# Put into a dataframe to get column names\n",
    "encoded_df = pd.DataFrame(dense_array, columns=categories, dtype=int)\n",
    "\n",
    "# reset the indices of the two dataframes\n",
    "encoded_df = encoded_df.reset_index(drop=True)\n",
    "hotelsdf = hotelsdf.reset_index(drop=True)\n",
    "\n",
    "# concatenate the two dataframes horizontally\n",
    "hotelsdf = pd.concat([hotelsdf, encoded_df], axis=1)"
   ]
  },
  {
   "cell_type": "code",
   "execution_count": 120,
   "id": "a9618afc",
   "metadata": {},
   "outputs": [],
   "source": [
    "#dropping unneeded categories\n",
    "hotelsdf = hotelsdf.drop(columns=['season'])"
   ]
  },
  {
   "cell_type": "code",
   "execution_count": 121,
   "id": "e96bc824",
   "metadata": {
    "scrolled": true
   },
   "outputs": [
    {
     "data": {
      "text/html": [
       "<div>\n",
       "<style scoped>\n",
       "    .dataframe tbody tr th:only-of-type {\n",
       "        vertical-align: middle;\n",
       "    }\n",
       "\n",
       "    .dataframe tbody tr th {\n",
       "        vertical-align: top;\n",
       "    }\n",
       "\n",
       "    .dataframe thead th {\n",
       "        text-align: right;\n",
       "    }\n",
       "</style>\n",
       "<table border=\"1\" class=\"dataframe\">\n",
       "  <thead>\n",
       "    <tr style=\"text-align: right;\">\n",
       "      <th></th>\n",
       "      <th>Additional_Number_of_Scoring</th>\n",
       "      <th>Average_Score</th>\n",
       "      <th>Review_Total_Negative_Word_Counts</th>\n",
       "      <th>Total_Number_of_Reviews</th>\n",
       "      <th>Review_Total_Positive_Word_Counts</th>\n",
       "      <th>Total_Number_of_Reviews_Reviewer_Has_Given</th>\n",
       "      <th>days_since_review</th>\n",
       "      <th>lat</th>\n",
       "      <th>lng</th>\n",
       "      <th>weekday_of_review</th>\n",
       "      <th>...</th>\n",
       "      <th>n_wrong</th>\n",
       "      <th>n_year</th>\n",
       "      <th>n_yes</th>\n",
       "      <th>n_yet</th>\n",
       "      <th>n_young</th>\n",
       "      <th>rating</th>\n",
       "      <th>season_fall</th>\n",
       "      <th>season_spring</th>\n",
       "      <th>season_summer</th>\n",
       "      <th>season_winter</th>\n",
       "    </tr>\n",
       "  </thead>\n",
       "  <tbody>\n",
       "    <tr>\n",
       "      <th>0</th>\n",
       "      <td>620</td>\n",
       "      <td>9.0</td>\n",
       "      <td>0</td>\n",
       "      <td>1974</td>\n",
       "      <td>164</td>\n",
       "      <td>1</td>\n",
       "      <td>562</td>\n",
       "      <td>51.506558</td>\n",
       "      <td>-0.004514</td>\n",
       "      <td>1</td>\n",
       "      <td>...</td>\n",
       "      <td>0</td>\n",
       "      <td>0</td>\n",
       "      <td>0</td>\n",
       "      <td>0</td>\n",
       "      <td>0</td>\n",
       "      <td>1</td>\n",
       "      <td>0</td>\n",
       "      <td>0</td>\n",
       "      <td>0</td>\n",
       "      <td>1</td>\n",
       "    </tr>\n",
       "    <tr>\n",
       "      <th>1</th>\n",
       "      <td>1258</td>\n",
       "      <td>9.4</td>\n",
       "      <td>6</td>\n",
       "      <td>4204</td>\n",
       "      <td>4</td>\n",
       "      <td>5</td>\n",
       "      <td>276</td>\n",
       "      <td>51.502435</td>\n",
       "      <td>-0.000250</td>\n",
       "      <td>0</td>\n",
       "      <td>...</td>\n",
       "      <td>0</td>\n",
       "      <td>0</td>\n",
       "      <td>0</td>\n",
       "      <td>0</td>\n",
       "      <td>0</td>\n",
       "      <td>1</td>\n",
       "      <td>1</td>\n",
       "      <td>0</td>\n",
       "      <td>0</td>\n",
       "      <td>0</td>\n",
       "    </tr>\n",
       "    <tr>\n",
       "      <th>2</th>\n",
       "      <td>995</td>\n",
       "      <td>8.1</td>\n",
       "      <td>2</td>\n",
       "      <td>3826</td>\n",
       "      <td>38</td>\n",
       "      <td>1</td>\n",
       "      <td>129</td>\n",
       "      <td>51.504348</td>\n",
       "      <td>-0.033444</td>\n",
       "      <td>0</td>\n",
       "      <td>...</td>\n",
       "      <td>0</td>\n",
       "      <td>0</td>\n",
       "      <td>0</td>\n",
       "      <td>0</td>\n",
       "      <td>0</td>\n",
       "      <td>1</td>\n",
       "      <td>0</td>\n",
       "      <td>1</td>\n",
       "      <td>0</td>\n",
       "      <td>0</td>\n",
       "    </tr>\n",
       "    <tr>\n",
       "      <th>3</th>\n",
       "      <td>853</td>\n",
       "      <td>8.4</td>\n",
       "      <td>7</td>\n",
       "      <td>2726</td>\n",
       "      <td>10</td>\n",
       "      <td>10</td>\n",
       "      <td>164</td>\n",
       "      <td>51.507377</td>\n",
       "      <td>0.038657</td>\n",
       "      <td>0</td>\n",
       "      <td>...</td>\n",
       "      <td>0</td>\n",
       "      <td>0</td>\n",
       "      <td>0</td>\n",
       "      <td>0</td>\n",
       "      <td>0</td>\n",
       "      <td>0</td>\n",
       "      <td>0</td>\n",
       "      <td>0</td>\n",
       "      <td>0</td>\n",
       "      <td>1</td>\n",
       "    </tr>\n",
       "    <tr>\n",
       "      <th>4</th>\n",
       "      <td>1243</td>\n",
       "      <td>8.1</td>\n",
       "      <td>11</td>\n",
       "      <td>6608</td>\n",
       "      <td>8</td>\n",
       "      <td>69</td>\n",
       "      <td>639</td>\n",
       "      <td>51.513556</td>\n",
       "      <td>-0.180002</td>\n",
       "      <td>1</td>\n",
       "      <td>...</td>\n",
       "      <td>0</td>\n",
       "      <td>0</td>\n",
       "      <td>0</td>\n",
       "      <td>0</td>\n",
       "      <td>0</td>\n",
       "      <td>0</td>\n",
       "      <td>1</td>\n",
       "      <td>0</td>\n",
       "      <td>0</td>\n",
       "      <td>0</td>\n",
       "    </tr>\n",
       "  </tbody>\n",
       "</table>\n",
       "<p>5 rows × 2748 columns</p>\n",
       "</div>"
      ],
      "text/plain": [
       "   Additional_Number_of_Scoring  Average_Score  \\\n",
       "0                           620            9.0   \n",
       "1                          1258            9.4   \n",
       "2                           995            8.1   \n",
       "3                           853            8.4   \n",
       "4                          1243            8.1   \n",
       "\n",
       "   Review_Total_Negative_Word_Counts  Total_Number_of_Reviews  \\\n",
       "0                                  0                     1974   \n",
       "1                                  6                     4204   \n",
       "2                                  2                     3826   \n",
       "3                                  7                     2726   \n",
       "4                                 11                     6608   \n",
       "\n",
       "   Review_Total_Positive_Word_Counts  \\\n",
       "0                                164   \n",
       "1                                  4   \n",
       "2                                 38   \n",
       "3                                 10   \n",
       "4                                  8   \n",
       "\n",
       "   Total_Number_of_Reviews_Reviewer_Has_Given  days_since_review        lat  \\\n",
       "0                                           1                562  51.506558   \n",
       "1                                           5                276  51.502435   \n",
       "2                                           1                129  51.504348   \n",
       "3                                          10                164  51.507377   \n",
       "4                                          69                639  51.513556   \n",
       "\n",
       "        lng  weekday_of_review  ...  n_wrong  n_year  n_yes  n_yet  n_young  \\\n",
       "0 -0.004514                  1  ...        0       0      0      0        0   \n",
       "1 -0.000250                  0  ...        0       0      0      0        0   \n",
       "2 -0.033444                  0  ...        0       0      0      0        0   \n",
       "3  0.038657                  0  ...        0       0      0      0        0   \n",
       "4 -0.180002                  1  ...        0       0      0      0        0   \n",
       "\n",
       "   rating  season_fall  season_spring  season_summer  season_winter  \n",
       "0       1            0              0              0              1  \n",
       "1       1            1              0              0              0  \n",
       "2       1            0              1              0              0  \n",
       "3       0            0              0              0              1  \n",
       "4       0            1              0              0              0  \n",
       "\n",
       "[5 rows x 2748 columns]"
      ]
     },
     "execution_count": 121,
     "metadata": {},
     "output_type": "execute_result"
    }
   ],
   "source": [
    "#checking our DataFrame \n",
    "hotelsdf.head()"
   ]
  },
  {
   "cell_type": "markdown",
   "id": "dcd9b52c",
   "metadata": {},
   "source": [
    "Now that we've got `seasons` in our DataFrame, let's split our data back into train and test sets. We will use a 75% / 25% split to replicate our previous sets and stratify to the target variable to ensure that both sets have the same proportion of positive and negative reviews."
   ]
  },
  {
   "cell_type": "code",
   "execution_count": 122,
   "id": "8dff4964",
   "metadata": {},
   "outputs": [
    {
     "name": "stdout",
     "output_type": "stream",
     "text": [
      "The shape of the independent variables in the training set:  (12798, 2747)\n",
      "The shape of the dependent variable in the training set:  (12798,)\n",
      "The shape of the independent variables in the test set:  (4267, 2747)\n",
      "The shape of the dependent variable in the test set:  (4267,)\n"
     ]
    }
   ],
   "source": [
    "# setting up our variables. rating is target \n",
    "X = hotelsdf.drop('rating', axis=1)\n",
    "y = hotelsdf['rating']\n",
    "\n",
    "# splitting the data into train and test set\n",
    "X_train, X_test, y_train, y_test = train_test_split(X, y, test_size=0.25, random_state=1, stratify=y)\n",
    " \n",
    "# displaying shape of our 4 split sets\n",
    "print('The shape of the independent variables in the training set: ', X_train.shape)\n",
    "print('The shape of the dependent variable in the training set: ', y_train.shape)\n",
    "print('The shape of the independent variables in the test set: ', X_test.shape)\n",
    "print('The shape of the dependent variable in the test set: ', y_test.shape)\n"
   ]
  },
  {
   "attachments": {},
   "cell_type": "markdown",
   "id": "a2c77e79",
   "metadata": {},
   "source": [
    "Our variables have been split and we can see 4 extra columns, which signify our seasons. Let's re run the model to see if we get a different result:"
   ]
  },
  {
   "cell_type": "code",
   "execution_count": 124,
   "id": "9a41bb77",
   "metadata": {},
   "outputs": [],
   "source": [
    "#re running best hyperparameters\n",
    "pipeline = Pipeline([\n",
    "    ('scaler', StandardScaler()),\n",
    "    ('pca', PCA(n_components=0.9)),\n",
    "    ('model', LogisticRegression(C=0.1, penalty='l2', max_iter=1000))\n",
    "])\n",
    "\n",
    "#fitting pipeline\n",
    "pipeline.fit(X_train, y_train)\n",
    "\n",
    "#making predictions with fitted pipeline\n",
    "y_pred = pipeline.predict(X_test)"
   ]
  },
  {
   "cell_type": "code",
   "execution_count": 125,
   "id": "38cb7cc4",
   "metadata": {},
   "outputs": [
    {
     "data": {
      "image/png": "[encoded data removed]",
      "text/plain": [
       "<Figure size 640x480 with 2 Axes>"
      ]
     },
     "metadata": {},
     "output_type": "display_data"
    },
    {
     "name": "stdout",
     "output_type": "stream",
     "text": [
      "              precision    recall  f1-score   support\n",
      "\n",
      "           0       0.72      0.71      0.71      1809\n",
      "           1       0.79      0.80      0.79      2458\n",
      "\n",
      "    accuracy                           0.76      4267\n",
      "   macro avg       0.75      0.75      0.75      4267\n",
      "weighted avg       0.76      0.76      0.76      4267\n",
      "\n"
     ]
    }
   ],
   "source": [
    "#setting up and displaying confusion matrix\n",
    "cm = confusion_matrix(y_test, y_pred)\n",
    "\n",
    "sns.heatmap(cm, annot=True, cmap='Blues', fmt='g')\n",
    "plt.title('Confusion Matrix')\n",
    "plt.xlabel('Predicted Labels')\n",
    "plt.ylabel('True Labels')\n",
    "plt.show()\n",
    "\n",
    "#printing classification report\n",
    "print(classification_report(y_test, y_pred))"
   ]
  },
  {
   "cell_type": "markdown",
   "id": "b0532ee5",
   "metadata": {},
   "source": [
    "Our new feature gave us 76% accuracy, which is 1% higher than our previous attempt. It also slightly improved our precision and recall, however there is still an imbalance in our predictions with our model more likely to predict a positive review than a negative one."
   ]
  },
  {
   "cell_type": "markdown",
   "id": "dce1e4e2",
   "metadata": {},
   "source": [
    "## Conclusion<a class=\"anchor\" id=\"conclusion\"></a>"
   ]
  },
  {
   "cell_type": "markdown",
   "id": "599a3d42",
   "metadata": {},
   "source": [
    "In this project, we ran a Logistic Regression, KNN, and Random Forest machine learning algorithms to attempt to predict the type of sentiment of a hotel review. We started out with basic modelling and ended with creating a pipeline to optimize our hyperparameters and engineered a new feature. We interpreted the results of the model with a confusion matrix, precision, recall, and accuracy scores and our final model ended up classifying 76% of scores correctly. Considering the ratings were in a binary measure, this is a decent result, but it can be further improved by engineering new measures and creating pipelines for other algorithms."
   ]
  }
 ],
 "metadata": {
  "kernelspec": {
   "display_name": "Python 3 (ipykernel)",
   "language": "python",
   "name": "python3"
  },
  "language_info": {
   "codemirror_mode": {
    "name": "ipython",
    "version": 3
   },
   "file_extension": ".py",
   "mimetype": "text/x-python",
   "name": "python",
   "nbconvert_exporter": "python",
   "pygments_lexer": "ipython3",
   "version": "3.8.8"
  }
 },
 "nbformat": 4,
 "nbformat_minor": 5
}
